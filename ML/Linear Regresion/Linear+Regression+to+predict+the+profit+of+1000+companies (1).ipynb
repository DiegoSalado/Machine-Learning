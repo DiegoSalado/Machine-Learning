{
 "cells": [
  {
   "cell_type": "code",
   "execution_count": 1,
   "metadata": {
    "collapsed": true
   },
   "outputs": [],
   "source": [
    "# Importing the libraries\n",
    "import numpy as np\n",
    "import matplotlib.pyplot as plt\n",
    "import pandas as pd\n",
    "import seaborn as sns\n",
    "%matplotlib inline"
   ]
  },
  {
   "cell_type": "code",
   "execution_count": 2,
   "metadata": {
    "collapsed": true
   },
   "outputs": [],
   "source": [
    "# Importing the dataset and Extracting the Independent and Dependent variables\n",
    "companies = pd.read_csv('1000_Companies.csv')\n",
    "X = companies.iloc[:, :-1].values\n",
    "y = companies.iloc[:, 4].values"
   ]
  },
  {
   "cell_type": "code",
   "execution_count": 3,
   "metadata": {},
   "outputs": [
    {
     "data": {
      "text/html": [
       "<div>\n",
       "<style scoped>\n",
       "    .dataframe tbody tr th:only-of-type {\n",
       "        vertical-align: middle;\n",
       "    }\n",
       "\n",
       "    .dataframe tbody tr th {\n",
       "        vertical-align: top;\n",
       "    }\n",
       "\n",
       "    .dataframe thead th {\n",
       "        text-align: right;\n",
       "    }\n",
       "</style>\n",
       "<table border=\"1\" class=\"dataframe\">\n",
       "  <thead>\n",
       "    <tr style=\"text-align: right;\">\n",
       "      <th></th>\n",
       "      <th>R&amp;D Spend</th>\n",
       "      <th>Administration</th>\n",
       "      <th>Marketing Spend</th>\n",
       "      <th>State</th>\n",
       "      <th>Profit</th>\n",
       "    </tr>\n",
       "  </thead>\n",
       "  <tbody>\n",
       "    <tr>\n",
       "      <th>0</th>\n",
       "      <td>165349.20</td>\n",
       "      <td>136897.80</td>\n",
       "      <td>471784.10</td>\n",
       "      <td>New York</td>\n",
       "      <td>192261.83</td>\n",
       "    </tr>\n",
       "    <tr>\n",
       "      <th>1</th>\n",
       "      <td>162597.70</td>\n",
       "      <td>151377.59</td>\n",
       "      <td>443898.53</td>\n",
       "      <td>California</td>\n",
       "      <td>191792.06</td>\n",
       "    </tr>\n",
       "    <tr>\n",
       "      <th>2</th>\n",
       "      <td>153441.51</td>\n",
       "      <td>101145.55</td>\n",
       "      <td>407934.54</td>\n",
       "      <td>Florida</td>\n",
       "      <td>191050.39</td>\n",
       "    </tr>\n",
       "    <tr>\n",
       "      <th>3</th>\n",
       "      <td>144372.41</td>\n",
       "      <td>118671.85</td>\n",
       "      <td>383199.62</td>\n",
       "      <td>New York</td>\n",
       "      <td>182901.99</td>\n",
       "    </tr>\n",
       "    <tr>\n",
       "      <th>4</th>\n",
       "      <td>142107.34</td>\n",
       "      <td>91391.77</td>\n",
       "      <td>366168.42</td>\n",
       "      <td>Florida</td>\n",
       "      <td>166187.94</td>\n",
       "    </tr>\n",
       "  </tbody>\n",
       "</table>\n",
       "</div>"
      ],
      "text/plain": [
       "   R&D Spend  Administration  Marketing Spend       State     Profit\n",
       "0  165349.20       136897.80        471784.10    New York  192261.83\n",
       "1  162597.70       151377.59        443898.53  California  191792.06\n",
       "2  153441.51       101145.55        407934.54     Florida  191050.39\n",
       "3  144372.41       118671.85        383199.62    New York  182901.99\n",
       "4  142107.34        91391.77        366168.42     Florida  166187.94"
      ]
     },
     "execution_count": 3,
     "metadata": {},
     "output_type": "execute_result"
    }
   ],
   "source": [
    "companies.head()"
   ]
  },
  {
   "cell_type": "code",
   "execution_count": 4,
   "metadata": {},
   "outputs": [
    {
     "data": {
      "text/plain": [
       "<AxesSubplot:>"
      ]
     },
     "execution_count": 4,
     "metadata": {},
     "output_type": "execute_result"
    },
    {
     "data": {
      "image/png": "[encoded data removed]",
      "text/plain": [
       "<Figure size 432x288 with 2 Axes>"
      ]
     },
     "metadata": {
      "needs_background": "light"
     },
     "output_type": "display_data"
    }
   ],
   "source": [
    "# Data Visualisation\n",
    "# Building the Correlation matrix\n",
    "cmap = sns.cm.rocket_r #para invertir los colores\n",
    "sns.heatmap(companies.corr(), \n",
    "            cmap=cmap)"
   ]
  },
  {
   "cell_type": "code",
   "execution_count": 5,
   "metadata": {
    "collapsed": true
   },
   "outputs": [],
   "source": [
    "# Encoding categorical data\n",
    "from sklearn.preprocessing import LabelEncoder, OneHotEncoder\n",
    "# labelencoder = LabelEncoder()\n",
    "# X[:, 3] = labelencoder.fit_transform(X[:, 3])\n",
    "# onehotencoder = OneHotEncoder(categorical_features = [3])\n",
    "# X = onehotencoder.fit_transform(X).toarray()\n",
    "\n",
    "from sklearn.compose import ColumnTransformer \n",
    "ct = ColumnTransformer([(\"Name_Of_Your_Step\", OneHotEncoder(),[3])], remainder=\"passthrough\")#[3] columna a trasformar \n",
    "X=ct.fit_transform(X) \n",
    "\n"
   ]
  },
  {
   "cell_type": "code",
   "execution_count": 6,
   "metadata": {},
   "outputs": [
    {
     "data": {
      "text/plain": [
       "array([[0.0, 0.0, 1.0, 165349.2, 136897.8, 471784.1],\n",
       "       [1.0, 0.0, 0.0, 162597.7, 151377.59, 443898.53],\n",
       "       [0.0, 1.0, 0.0, 153441.51, 101145.55, 407934.54],\n",
       "       ...,\n",
       "       [1.0, 0.0, 0.0, 100275.47, 241926.31, 227142.82],\n",
       "       [1.0, 0.0, 0.0, 128456.23, 321652.14, 281692.32],\n",
       "       [0.0, 0.0, 1.0, 161181.72, 270939.86, 295442.17]], dtype=object)"
      ]
     },
     "execution_count": 6,
     "metadata": {},
     "output_type": "execute_result"
    }
   ],
   "source": [
    "X"
   ]
  },
  {
   "cell_type": "code",
   "execution_count": 7,
   "metadata": {
    "collapsed": true
   },
   "outputs": [],
   "source": [
    "# Avoiding the Dummy Variable Trap\n",
    "X = X[:, 1:]"
   ]
  },
  {
   "cell_type": "code",
   "execution_count": 8,
   "metadata": {
    "collapsed": true
   },
   "outputs": [],
   "source": [
    "# Splitting the dataset into the Training set and Test set\n",
    "from sklearn.model_selection import train_test_split\n",
    "X_train, X_test, y_train, y_test = train_test_split(X, y, test_size = 0.2, random_state = 0)"
   ]
  },
  {
   "cell_type": "code",
   "execution_count": 9,
   "metadata": {},
   "outputs": [
    {
     "data": {
      "text/plain": [
       "LinearRegression()"
      ]
     },
     "execution_count": 9,
     "metadata": {},
     "output_type": "execute_result"
    }
   ],
   "source": [
    "# Fitting Multiple Linear Regression to the Training set\n",
    "from sklearn.linear_model import LinearRegression\n",
    "regressor = LinearRegression()\n",
    "regressor.fit(X_train, y_train)"
   ]
  },
  {
   "cell_type": "code",
   "execution_count": 10,
   "metadata": {},
   "outputs": [
    {
     "data": {
      "text/plain": [
       "array([ 89790.61532914,  88427.0718736 ,  94894.67836971, 175680.86725613,\n",
       "        83411.73042087, 110571.90200074, 132145.2293644 ,  91473.37719685,\n",
       "       164597.05380608,  53222.82667398,  66950.19050988, 150566.43987006,\n",
       "       126915.20858596,  59337.85971048, 177513.91053064,  75316.28143049,\n",
       "       118248.14406603, 164574.40699904, 170937.28981071, 182069.11645086,\n",
       "       118845.03252688,  85669.95112227, 180992.59396146,  84145.08220144,\n",
       "       105005.83769213, 101233.56772746,  53831.07669088,  56881.41475222,\n",
       "        68896.39346903, 210040.00765886, 120778.72270894, 111724.87157654,\n",
       "       101487.90541517, 137959.02649624,  63969.95996741, 108857.91214126,\n",
       "       186014.7253199 , 171442.64130749, 174644.26529207, 117671.49128195,\n",
       "        96731.37857432, 165452.25779411, 107724.34331255,  50194.54176911,\n",
       "       116513.89532178,  58632.48986818, 158416.46827611,  78541.48521608,\n",
       "       159727.66671745, 131137.87699644, 184880.70924519, 174609.08266882,\n",
       "        93745.66352058,  78341.13383416, 180745.90439082,  84461.61490551,\n",
       "       142900.90602904, 170618.44098399,  84365.09530838, 105307.3716218 ,\n",
       "       141660.07290787,  52527.3434044 , 141842.96264161, 139176.27973196,\n",
       "        98294.52669665, 113586.86790969, 126754.21895489, 152135.51985563,\n",
       "        58864.51658953, 174285.57361132, 124624.04380784, 169065.7765898 ,\n",
       "        91279.33198208, 156170.37268964,  84307.26579364,  77877.75223095,\n",
       "       120414.02421346,  93380.4427324 , 139020.62514122, 143604.67103574,\n",
       "       171148.3081537 , 140082.97050132, 106369.71689746, 155641.43851389,\n",
       "       140030.10330038, 110172.87893524,  69672.98677563,  88148.5206804 ,\n",
       "       140133.59925094, 148479.09537889, 157916.63505258,  58532.94863139,\n",
       "        93707.38422389, 112646.37475705,  56556.18943658, 107414.89996181,\n",
       "       147352.80227753, 152144.10104035, 167808.11701786, 118750.25230713,\n",
       "       120763.27666701, 139029.95295663, 157527.90934121, 121962.0621496 ,\n",
       "        87091.32399735, 104792.91384333,  95335.22679184, 178389.52287438,\n",
       "       181942.63776384, 109831.34945506, 165254.03344098, 167806.06491904,\n",
       "       158002.44642545, 174782.86900958, 170196.77102701,  52302.18161609,\n",
       "       176938.11595792, 104751.83583865,  82710.31528804, 138890.52767845,\n",
       "       144274.74675426, 161679.01836442, 169662.05445897, 120450.9231013 ,\n",
       "       158880.70799548, 110213.73252824, 169674.51532368,  60760.61300839,\n",
       "       159036.99629069, 158169.44286049, 174511.70494477, 156294.79927785,\n",
       "       103714.37583211,  85635.96237573, 141603.54878758, 165917.69156982,\n",
       "       121182.03641977, 170751.87883895, 100505.77549411,  82097.51033126,\n",
       "       178643.18879845, 101790.48384578,  70507.4095862 ,  90250.04230087,\n",
       "        61247.49962678,  68912.17534518,  72775.81613474, 176914.08873126,\n",
       "        89704.6924493 , 129209.43730014,  92672.90938382,  88133.59175043,\n",
       "       172836.3302162 ,  60893.62070012, 169015.89446012, 166450.24453206,\n",
       "       165425.54476417, 102170.51694989, 181594.57928218,  73702.5794256 ,\n",
       "        91267.42979668, 135791.54160196,  64922.80257298,  71775.70235724,\n",
       "        60603.91401513, 184288.61041918, 176286.69585947, 158907.7568704 ,\n",
       "       141359.32216439, 154611.17928322,  58549.58863231,  90618.58407898,\n",
       "       152885.51163926, 168398.05223807,  72485.36274537, 116064.24350667,\n",
       "        80087.80697207, 149828.90896189, 116806.9595737 , 130191.48845161,\n",
       "       174534.42670331, 293584.45948284, 146270.8317479 , 150646.69178015,\n",
       "        86107.47782246,  69967.20842244,  70096.78368771,  69033.69170767,\n",
       "       120666.75708064,  89677.68014062, 166824.27091664, 125514.7662641 ,\n",
       "        67209.67687464, 140930.69427704, 118544.30490695, 165897.61905908,\n",
       "       168655.48652554, 147009.6680505 , 141396.22104147, 109086.50634848])"
      ]
     },
     "execution_count": 10,
     "metadata": {},
     "output_type": "execute_result"
    }
   ],
   "source": [
    "# Predicting the Test set results\n",
    "y_pred = regressor.predict(X_test)\n",
    "y_pred"
   ]
  },
  {
   "cell_type": "code",
   "execution_count": 11,
   "metadata": {},
   "outputs": [
    {
     "name": "stdout",
     "output_type": "stream",
     "text": [
      "[-8.80536598e+02 -6.98169073e+02  5.25845857e-01  8.44390881e-01\n",
      "  1.07574255e-01]\n"
     ]
    }
   ],
   "source": [
    "# Calculating the Coefficients\n",
    "print(regressor.coef_)"
   ]
  },
  {
   "cell_type": "code",
   "execution_count": 12,
   "metadata": {},
   "outputs": [
    {
     "name": "stdout",
     "output_type": "stream",
     "text": [
      "-51035.22972404823\n"
     ]
    }
   ],
   "source": [
    "# Calculating the Intercept\n",
    "print(regressor.intercept_)"
   ]
  },
  {
   "cell_type": "code",
   "execution_count": 13,
   "metadata": {},
   "outputs": [
    {
     "data": {
      "text/plain": [
       "0.9112695892268872"
      ]
     },
     "execution_count": 13,
     "metadata": {},
     "output_type": "execute_result"
    }
   ],
   "source": [
    "# Calculating the R squared value\n",
    "from sklearn.metrics import r2_score\n",
    "r2_score(y_test, y_pred)"
   ]
  }
 ],
 "metadata": {
  "kernelspec": {
   "display_name": "Python 3.9.12 ('base')",
   "language": "python",
   "name": "python3"
  },
  "language_info": {
   "codemirror_mode": {
    "name": "ipython",
    "version": 3
   },
   "file_extension": ".py",
   "mimetype": "text/x-python",
   "name": "python",
   "nbconvert_exporter": "python",
   "pygments_lexer": "ipython3",
   "version": "3.9.12"
  },
  "vscode": {
   "interpreter": {
    "hash": "ef66bfd892a4ac60c7b36ec8b80311d96e23b644cddda3dfad520f730641d093"
   }
  }
 },
 "nbformat": 4,
 "nbformat_minor": 2
}
